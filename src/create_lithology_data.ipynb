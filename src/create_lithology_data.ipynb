version https://git-lfs.github.com/spec/v1
oid sha256:11d5cbfbfc6174938575377b5b801a6544fba1b2dccbfe202c152fe7241fc6e0
size 15090
