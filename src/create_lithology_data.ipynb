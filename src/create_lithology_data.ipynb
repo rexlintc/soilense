version https://git-lfs.github.com/spec/v1
oid sha256:fc0f99b166faed01d3274c30ed5cdf3f589a52ec280ea2a3ae44bc0fce97ae30
size 27463
