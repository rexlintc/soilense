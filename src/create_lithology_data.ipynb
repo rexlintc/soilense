version https://git-lfs.github.com/spec/v1
oid sha256:01c69320b4f94719f78639ba91e4483812624d0554a1ba759bfa0a880f3a3602
size 19162
