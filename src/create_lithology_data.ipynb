{
 "cells": [
  {
   "cell_type": "code",
   "execution_count": 1,
   "id": "2e3c04e3",
   "metadata": {},
   "outputs": [],
   "source": [
    "import pandas as pd\n",
    "import numpy as np"
   ]
  },
  {
   "cell_type": "code",
   "execution_count": 2,
   "id": "47f280cb",
   "metadata": {},
   "outputs": [],
   "source": [
    "borehole_df = pd.read_csv('../data/boreholes_reuscs_sptn.csv')"
   ]
  },
  {
   "cell_type": "code",
   "execution_count": 18,
   "id": "c40c09ca",
   "metadata": {},
   "outputs": [],
   "source": [
    "output_csv_path = 'lithology_training_points.csv'"
   ]
  },
  {
   "cell_type": "code",
   "execution_count": 16,
   "id": "df372664",
   "metadata": {},
   "outputs": [],
   "source": [
    "borehole_id_col = 'Borehole ID'\n",
    "lat_col = 'Latitude'\n",
    "lon_col = 'Longitude'\n",
    "layer_num_col = 'Layer #'\n",
    "layer_top_elev_col = 'Layer Top Elevation (ft)'\n",
    "layer_bottom_elev_col = 'Layer Bottom Elevation (ft)'\n",
    "lithology_col = 'Lithology'\n",
    "midpoint_elev_col = 'Midpoint Elevation (ft)' # Name for the new column"
   ]
  },
  {
   "cell_type": "code",
   "execution_count": 12,
   "id": "bf2d1ee8",
   "metadata": {},
   "outputs": [],
   "source": [
    "sptn_point_data = borehole_df[['Latitude', 'Longitude', 'Test Elevation (ft)', 'SPTN']]"
   ]
  },
  {
   "cell_type": "code",
   "execution_count": null,
   "id": "a8f2f138",
   "metadata": {},
   "outputs": [],
   "source": [
    "# sptn_point_data.to_csv('../data/sptn_point_data.csv', index=False)"
   ]
  },
  {
   "cell_type": "code",
   "execution_count": 17,
   "id": "774ecf43",
   "metadata": {},
   "outputs": [
    {
     "name": "stdout",
     "output_type": "stream",
     "text": [
      "Dropped 984 rows with missing layer elevation or lithology data.\n"
     ]
    }
   ],
   "source": [
    "initial_rows = borehole_df.shape[0]\n",
    "borehole_df.dropna(subset=[layer_top_elev_col, layer_bottom_elev_col, lithology_col], inplace=True)\n",
    "rows_after_nan_drop = borehole_df.shape[0]\n",
    "if initial_rows > rows_after_nan_drop:\n",
    "    print(f\"Dropped {initial_rows - rows_after_nan_drop} rows with missing layer elevation or lithology data.\")"
   ]
  },
  {
   "cell_type": "code",
   "execution_count": 19,
   "id": "a499352f",
   "metadata": {},
   "outputs": [
    {
     "name": "stdout",
     "output_type": "stream",
     "text": [
      "Identifying unique layers per borehole using 'Borehole ID' and 'Layer #'...\n",
      "Shape after keeping unique layers: (9454, 14)\n",
      "Calculating midpoint elevation = ('Layer Top Elevation (ft)' + 'Layer Bottom Elevation (ft)') / 2 ...\n",
      "Saving processed data to lithology_training_points.csv...\n",
      "Processing complete.\n",
      "Generated Lithology training data shape: (9454, 4)\n",
      "First 5 rows of the generated data:\n",
      "    Latitude  Longitude  Midpoint Elevation (ft)   Lithology\n",
      "0  47.568436 -122.40748                    76.55        Fill\n",
      "1  47.568436 -122.40748                    73.05        Clay\n",
      "5  47.568436 -122.40748                    69.55  Sandy silt\n",
      "6  47.568436 -122.40748                    68.30        Sand\n",
      "7  47.568436 -122.40748                    67.30        Sand\n"
     ]
    }
   ],
   "source": [
    "print(f\"Identifying unique layers per borehole using '{borehole_id_col}' and '{layer_num_col}'...\")\n",
    "layer_df = borehole_df.drop_duplicates(subset=[borehole_id_col, layer_num_col], keep='first').copy()\n",
    "print(f\"Shape after keeping unique layers: {layer_df.shape}\")\n",
    "\n",
    "# Calculate the midpoint elevation for each layer interval\n",
    "print(f\"Calculating midpoint elevation = ('{layer_top_elev_col}' + '{layer_bottom_elev_col}') / 2 ...\")\n",
    "layer_df[midpoint_elev_col] = (layer_df[layer_top_elev_col] + layer_df[layer_bottom_elev_col]) / 2\n",
    "\n",
    "# Select only the necessary columns for the Lithology training dataset\n",
    "lithology_points_df = layer_df[[lat_col, lon_col, midpoint_elev_col, lithology_col]].copy()\n",
    "\n",
    "# --- Save the Result ---\n",
    "print(f\"Saving processed data to {output_csv_path}...\")\n",
    "lithology_points_df.to_csv(\"../data/\" + output_csv_path, index=False)\n",
    "print(\"Processing complete.\")\n",
    "print(f\"Generated Lithology training data shape: {lithology_points_df.shape}\")\n",
    "print(f\"First 5 rows of the generated data:\\n{lithology_points_df.head()}\")"
   ]
  },
  {
   "cell_type": "code",
   "execution_count": null,
   "id": "a3250316",
   "metadata": {},
   "outputs": [],
   "source": [
    "# create lithology training data\n",
    "\"\"\"\n",
    "For each unique combination of Borehole ID, Layer #, Layer Top Elevation, and Layer Bottom Elevation:\n",
    "    - Take the Latitude and Longitude of the borehole.\n",
    "    - Calculate the Midpoint Elevation (ft) = (Layer Top Elevation (ft) + Layer Bottom Elevation (ft)) / 2.\n",
    "    - Record the Lithology for that interval.\n",
    "\"\"\"\n"
   ]
  },
  {
   "cell_type": "code",
   "execution_count": null,
   "id": "1fd5b4ee",
   "metadata": {},
   "outputs": [],
   "source": []
  }
 ],
 "metadata": {
  "kernelspec": {
   "display_name": "venv",
   "language": "python",
   "name": "python3"
  },
  "language_info": {
   "codemirror_mode": {
    "name": "ipython",
    "version": 3
   },
   "file_extension": ".py",
   "mimetype": "text/x-python",
   "name": "python",
   "nbconvert_exporter": "python",
   "pygments_lexer": "ipython3",
   "version": "3.13.2"
  }
 },
 "nbformat": 4,
 "nbformat_minor": 5
}
