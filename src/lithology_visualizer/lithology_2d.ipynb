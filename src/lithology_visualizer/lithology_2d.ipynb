{
 "cells": [
  {
   "cell_type": "code",
   "execution_count": 1,
   "id": "021d16dd",
   "metadata": {},
   "outputs": [],
   "source": [
    "import pandas as pd"
   ]
  },
  {
   "cell_type": "code",
   "execution_count": 3,
   "id": "30c179cf",
   "metadata": {},
   "outputs": [],
   "source": [
    "project_site_grid = pd.read_csv('../../../soilense_data/june_demo/project_site_grid.csv')"
   ]
  },
  {
   "cell_type": "code",
   "execution_count": null,
   "id": "eb0e37b7",
   "metadata": {},
   "outputs": [],
   "source": [
    "layer_depth_increment = 2.5"
   ]
  },
  {
   "cell_type": "code",
   "execution_count": 7,
   "id": "cfec65f1",
   "metadata": {},
   "outputs": [],
   "source": [
    "start = 0\n",
    "end = 30\n",
    "step = 2.5\n",
    "depth_values = [start + i + step for i in range(int((end - start) / step) + 1)]"
   ]
  },
  {
   "cell_type": "code",
   "execution_count": 17,
   "id": "c3de39b6",
   "metadata": {},
   "outputs": [
    {
     "data": {
      "text/html": [
       "<div>\n",
       "<style scoped>\n",
       "    .dataframe tbody tr th:only-of-type {\n",
       "        vertical-align: middle;\n",
       "    }\n",
       "\n",
       "    .dataframe tbody tr th {\n",
       "        vertical-align: top;\n",
       "    }\n",
       "\n",
       "    .dataframe thead th {\n",
       "        text-align: right;\n",
       "    }\n",
       "</style>\n",
       "<table border=\"1\" class=\"dataframe\">\n",
       "  <thead>\n",
       "    <tr style=\"text-align: right;\">\n",
       "      <th></th>\n",
       "      <th>EPSG6599_LATITUDE</th>\n",
       "      <th>EPSG6599_LONGITUDE</th>\n",
       "      <th>DEPTH_FT</th>\n",
       "    </tr>\n",
       "  </thead>\n",
       "  <tbody>\n",
       "    <tr>\n",
       "      <th>0</th>\n",
       "      <td>722121.370833</td>\n",
       "      <td>1.190622e+06</td>\n",
       "      <td>2.5</td>\n",
       "    </tr>\n",
       "    <tr>\n",
       "      <th>1</th>\n",
       "      <td>722121.370833</td>\n",
       "      <td>1.190622e+06</td>\n",
       "      <td>3.5</td>\n",
       "    </tr>\n",
       "    <tr>\n",
       "      <th>2</th>\n",
       "      <td>722121.370833</td>\n",
       "      <td>1.190622e+06</td>\n",
       "      <td>4.5</td>\n",
       "    </tr>\n",
       "    <tr>\n",
       "      <th>3</th>\n",
       "      <td>722121.370833</td>\n",
       "      <td>1.190622e+06</td>\n",
       "      <td>5.5</td>\n",
       "    </tr>\n",
       "    <tr>\n",
       "      <th>4</th>\n",
       "      <td>722121.370833</td>\n",
       "      <td>1.190622e+06</td>\n",
       "      <td>6.5</td>\n",
       "    </tr>\n",
       "    <tr>\n",
       "      <th>...</th>\n",
       "      <td>...</td>\n",
       "      <td>...</td>\n",
       "      <td>...</td>\n",
       "    </tr>\n",
       "    <tr>\n",
       "      <th>9641</th>\n",
       "      <td>722449.454167</td>\n",
       "      <td>1.192984e+06</td>\n",
       "      <td>10.5</td>\n",
       "    </tr>\n",
       "    <tr>\n",
       "      <th>9642</th>\n",
       "      <td>722449.454167</td>\n",
       "      <td>1.192984e+06</td>\n",
       "      <td>11.5</td>\n",
       "    </tr>\n",
       "    <tr>\n",
       "      <th>9643</th>\n",
       "      <td>722449.454167</td>\n",
       "      <td>1.192984e+06</td>\n",
       "      <td>12.5</td>\n",
       "    </tr>\n",
       "    <tr>\n",
       "      <th>9644</th>\n",
       "      <td>722449.454167</td>\n",
       "      <td>1.192984e+06</td>\n",
       "      <td>13.5</td>\n",
       "    </tr>\n",
       "    <tr>\n",
       "      <th>9645</th>\n",
       "      <td>722449.454167</td>\n",
       "      <td>1.192984e+06</td>\n",
       "      <td>14.5</td>\n",
       "    </tr>\n",
       "  </tbody>\n",
       "</table>\n",
       "<p>9646 rows × 3 columns</p>\n",
       "</div>"
      ],
      "text/plain": [
       "      EPSG6599_LATITUDE  EPSG6599_LONGITUDE  DEPTH_FT\n",
       "0         722121.370833        1.190622e+06       2.5\n",
       "1         722121.370833        1.190622e+06       3.5\n",
       "2         722121.370833        1.190622e+06       4.5\n",
       "3         722121.370833        1.190622e+06       5.5\n",
       "4         722121.370833        1.190622e+06       6.5\n",
       "...                 ...                 ...       ...\n",
       "9641      722449.454167        1.192984e+06      10.5\n",
       "9642      722449.454167        1.192984e+06      11.5\n",
       "9643      722449.454167        1.192984e+06      12.5\n",
       "9644      722449.454167        1.192984e+06      13.5\n",
       "9645      722449.454167        1.192984e+06      14.5\n",
       "\n",
       "[9646 rows x 3 columns]"
      ]
     },
     "execution_count": 17,
     "metadata": {},
     "output_type": "execute_result"
    }
   ],
   "source": [
    "project_site_3d_grid = []\n",
    "project_site_3d_grid_columns = ['EPSG6599_LATITUDE', 'EPSG6599_LONGITUDE', 'DEPTH_FT']\n",
    "for i, row in project_site_grid.iterrows():\n",
    "    layers = []\n",
    "    for depth in depth_values:\n",
    "        layers.append([row['Latitude'], row['Longitude'], depth])\n",
    "    project_site_3d_grid.extend(layers)\n",
    "project_site_3d_grid = pd.DataFrame(project_site_3d_grid, columns=project_site_3d_grid_columns)\n",
    "project_site_3d_grid"
   ]
  },
  {
   "cell_type": "code",
   "execution_count": 15,
   "id": "54259580",
   "metadata": {},
   "outputs": [],
   "source": [
    "import pickle\n",
    "model_path = '../../model/lithology_no_dem_random_forest_150estimators.pkl'\n",
    "with open(model_path, 'rb') as f:\n",
    "    lith_model = pickle.load(f)"
   ]
  },
  {
   "cell_type": "code",
   "execution_count": 21,
   "id": "6a9f5658",
   "metadata": {},
   "outputs": [],
   "source": [
    "project_site_3d_grid['predicted_lithology'] = lith_model.predict(project_site_3d_grid)"
   ]
  },
  {
   "cell_type": "code",
   "execution_count": 27,
   "id": "93f5d504",
   "metadata": {},
   "outputs": [
    {
     "data": {
      "text/plain": [
       "'/Users/rex/soilense/src/lithology_visualizer'"
      ]
     },
     "execution_count": 27,
     "metadata": {},
     "output_type": "execute_result"
    }
   ],
   "source": [
    "pwd"
   ]
  },
  {
   "cell_type": "code",
   "execution_count": 28,
   "id": "20be861a",
   "metadata": {},
   "outputs": [
    {
     "ename": "ModuleNotFoundError",
     "evalue": "No module named 'src'",
     "output_type": "error",
     "traceback": [
      "\u001b[31m---------------------------------------------------------------------------\u001b[39m",
      "\u001b[31mModuleNotFoundError\u001b[39m                       Traceback (most recent call last)",
      "\u001b[36mCell\u001b[39m\u001b[36m \u001b[39m\u001b[32mIn[28]\u001b[39m\u001b[32m, line 1\u001b[39m\n\u001b[32m----> \u001b[39m\u001b[32m1\u001b[39m \u001b[38;5;28;01mfrom\u001b[39;00m\u001b[38;5;250m \u001b[39m\u001b[34;01msrc\u001b[39;00m\u001b[34;01m.\u001b[39;00m\u001b[34;01mdem_processor\u001b[39;00m\u001b[34;01m.\u001b[39;00m\u001b[34;01mindexer\u001b[39;00m\u001b[38;5;250m \u001b[39m\u001b[38;5;28;01mimport\u001b[39;00m index_raster_files\n\u001b[32m      2\u001b[39m \u001b[38;5;28;01mfrom\u001b[39;00m\u001b[38;5;250m \u001b[39m\u001b[34;01msrc\u001b[39;00m\u001b[34;01m.\u001b[39;00m\u001b[34;01mdem_processor\u001b[39;00m\u001b[34;01m.\u001b[39;00m\u001b[34;01mfeature_exractor\u001b[39;00m\u001b[38;5;250m \u001b[39m\u001b[38;5;28;01mimport\u001b[39;00m calculate_slope, calculate_aspect\n",
      "\u001b[31mModuleNotFoundError\u001b[39m: No module named 'src'"
     ]
    }
   ],
   "source": [
    "from src.dem_processor.indexer import index_raster_files\n",
    "from src.dem_processor.feature_exractor import calculate_slope, calculate_aspect"
   ]
  },
  {
   "cell_type": "code",
   "execution_count": null,
   "id": "4c1e2446",
   "metadata": {},
   "outputs": [],
   "source": [
    "RASTER_TYPE_PATTERNS = {\n",
    "    'DEM': '*.tif',\n",
    "    # 'DEM': '*.dem',\n",
    "}\n",
    "RASTER_DIRS = [\"../../../soilense_data/DEM/washington_10meter_dem_tiles/EPSG6599_reprojected_dems_wa_south_ft\"]\n",
    "spatial_index, raster_info_list = index_raster_files(RASTER_DIRS, RASTER_TYPE_PATTERNS)"
   ]
  }
 ],
 "metadata": {
  "kernelspec": {
   "display_name": "venv",
   "language": "python",
   "name": "python3"
  },
  "language_info": {
   "codemirror_mode": {
    "name": "ipython",
    "version": 3
   },
   "file_extension": ".py",
   "mimetype": "text/x-python",
   "name": "python",
   "nbconvert_exporter": "python",
   "pygments_lexer": "ipython3",
   "version": "3.13.3"
  }
 },
 "nbformat": 4,
 "nbformat_minor": 5
}
