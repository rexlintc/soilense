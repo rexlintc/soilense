version https://git-lfs.github.com/spec/v1
oid sha256:48fd6858de3feabf80cc9d5aefc8b0c025b9a62a51a97928b26cd4b37d0535b9
size 1521655
