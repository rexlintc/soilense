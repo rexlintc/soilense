version https://git-lfs.github.com/spec/v1
oid sha256:7430e18b6bf010400e5a67357e843a756f5d260aa7d48780386495b7d2c96f89
size 8738
