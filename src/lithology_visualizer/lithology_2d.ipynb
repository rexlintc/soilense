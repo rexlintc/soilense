version https://git-lfs.github.com/spec/v1
oid sha256:a0d30f8db8a33081174ed86099f427b834c51c5a586e8e6870e3fa3bbd27c15e
size 1515550
