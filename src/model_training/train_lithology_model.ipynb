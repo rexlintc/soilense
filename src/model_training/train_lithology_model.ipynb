version https://git-lfs.github.com/spec/v1
oid sha256:c701ff5cf924bfa4f892c58beb0ad22e4e61ce7cba0612f0dd9febc949c89ac2
size 11125
