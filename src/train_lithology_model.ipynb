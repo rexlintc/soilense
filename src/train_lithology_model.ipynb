{
 "cells": [
  {
   "cell_type": "code",
   "execution_count": 1,
   "id": "53bcb3d9",
   "metadata": {},
   "outputs": [],
   "source": [
    "import pandas as pd\n",
    "from sklearn.model_selection import train_test_split\n",
    "import numpy as np"
   ]
  },
  {
   "cell_type": "code",
   "execution_count": 6,
   "id": "c676bb78",
   "metadata": {},
   "outputs": [],
   "source": [
    "lith_data = pd.read_csv('../data/lithology_training_points.csv')"
   ]
  },
  {
   "cell_type": "code",
   "execution_count": 13,
   "id": "5960500b",
   "metadata": {},
   "outputs": [],
   "source": [
    "feature_cols = ['Latitude', 'Longitude', 'Midpoint Elevation (ft)']\n",
    "target_col = 'Lithology'\n",
    "test_size_proportion = 0.25\n",
    "random_seed = 42"
   ]
  },
  {
   "cell_type": "code",
   "execution_count": 8,
   "id": "92df486f",
   "metadata": {},
   "outputs": [],
   "source": [
    "initial_rows = lith_data.shape[0]\n",
    "lith_data.dropna(subset=[target_col], inplace=True)\n",
    "rows_after_nan_drop = lith_data.shape[0]"
   ]
  },
  {
   "cell_type": "code",
   "execution_count": 15,
   "id": "aa6d33f5",
   "metadata": {},
   "outputs": [
    {
     "name": "stdout",
     "output_type": "stream",
     "text": [
      "\n",
      "Checking class counts before splitting...\n",
      "Original Class Distribution:\n",
      "Lithology\n",
      "Silty sand               2206\n",
      "Sand                     2194\n",
      "Fill                      985\n",
      "Silt                      880\n",
      "Sandy silt                701\n",
      "Clayey silt               423\n",
      "Gravelly sand             377\n",
      "Silty clay                348\n",
      "Sandy gravel              313\n",
      "Clay                      231\n",
      "Gravel                    192\n",
      "Peat                      141\n",
      "Topsoil / vegetation       81\n",
      "Sandy clay                 79\n",
      "Silty gravel               71\n",
      "Undefined                  66\n",
      "Asphalt / concrete         45\n",
      "Clayey sand                44\n",
      "Gravelly silt              27\n",
      "Sedimentary bedrock        14\n",
      "Clayey gravel               9\n",
      "Gravelly clay               7\n",
      "Debris                      7\n",
      "Volcanic ash                5\n",
      "Undifferentiated rock       3\n",
      "Volcanic bedrock            2\n",
      "Cobbles / boulders          2\n",
      "Metamorphic bedrock         1\n",
      "Name: count, dtype: int64\n",
      "\n",
      "Found classes with only 1 member: ['Metamorphic bedrock']. These will be removed.\n",
      "Data shape after removing single-member classes: (9453, 4)\n",
      "Updated Class Distribution:\n",
      "Lithology\n",
      "Silty sand               2206\n",
      "Sand                     2194\n",
      "Fill                      985\n",
      "Silt                      880\n",
      "Sandy silt                701\n",
      "Clayey silt               423\n",
      "Gravelly sand             377\n",
      "Silty clay                348\n",
      "Sandy gravel              313\n",
      "Clay                      231\n",
      "Gravel                    192\n",
      "Peat                      141\n",
      "Topsoil / vegetation       81\n",
      "Sandy clay                 79\n",
      "Silty gravel               71\n",
      "Undefined                  66\n",
      "Asphalt / concrete         45\n",
      "Clayey sand                44\n",
      "Gravelly silt              27\n",
      "Sedimentary bedrock        14\n",
      "Clayey gravel               9\n",
      "Debris                      7\n",
      "Gravelly clay               7\n",
      "Volcanic ash                5\n",
      "Undifferentiated rock       3\n",
      "Volcanic bedrock            2\n",
      "Cobbles / boulders          2\n",
      "Name: count, dtype: int64\n"
     ]
    }
   ],
   "source": [
    "print(\"\\nChecking class counts before splitting...\")\n",
    "class_counts = lith_data[target_col].value_counts()\n",
    "print(\"Original Class Distribution:\")\n",
    "print(class_counts)\n",
    "\n",
    "classes_to_remove = class_counts[class_counts == 1].index.tolist()\n",
    "\n",
    "if classes_to_remove:\n",
    "    print(f\"\\nFound classes with only 1 member: {classes_to_remove}. These will be removed.\")\n",
    "    lith_data = lith_data[~lith_data[target_col].isin(classes_to_remove)].copy()\n",
    "    print(f\"Data shape after removing single-member classes: {lith_data.shape}\")\n",
    "    print(\"Updated Class Distribution:\")\n",
    "    print(lith_data[target_col].value_counts())\n",
    "else:\n",
    "    print(\"\\nNo classes with only 1 member found. Proceeding with split.\")"
   ]
  },
  {
   "cell_type": "code",
   "execution_count": 16,
   "id": "ddbc8b78",
   "metadata": {},
   "outputs": [],
   "source": [
    "X = lith_data[feature_cols]\n",
    "y = lith_data[target_col]"
   ]
  },
  {
   "cell_type": "code",
   "execution_count": 18,
   "id": "3ee92a03",
   "metadata": {},
   "outputs": [
    {
     "name": "stdout",
     "output_type": "stream",
     "text": [
      "\n",
      "Features shape (X): (9453, 3)\n",
      "Target shape (y): (9453,)\n",
      "Target variable unique values: ['Fill' 'Clay' 'Sandy silt' 'Sand' 'Clayey silt' 'Silty sand' 'Undefined'\n",
      " 'Asphalt / concrete' 'Silt' 'Peat' 'Silty clay' 'Gravelly sand'\n",
      " 'Clayey sand' 'Topsoil / vegetation' 'Gravel' 'Sandy clay' 'Sandy gravel'\n",
      " 'Gravelly silt' 'Silty gravel' 'Debris' 'Sedimentary bedrock'\n",
      " 'Gravelly clay' 'Volcanic ash' 'Volcanic bedrock' 'Clayey gravel'\n",
      " 'Cobbles / boulders' 'Undifferentiated rock']\n"
     ]
    }
   ],
   "source": [
    "print(f\"\\nFeatures shape (X): {X.shape}\")\n",
    "print(f\"Target shape (y): {y.shape}\")\n",
    "print(f\"Target variable unique values: {y.unique()}\")"
   ]
  },
  {
   "cell_type": "code",
   "execution_count": 20,
   "id": "18b0fea1",
   "metadata": {},
   "outputs": [
    {
     "name": "stdout",
     "output_type": "stream",
     "text": [
      "\n",
      "Splitting data into training (75%) and testing (25%)...\n"
     ]
    }
   ],
   "source": [
    "print(f\"\\nSplitting data into training ({1 - test_size_proportion:.0%}) and testing ({test_size_proportion:.0%})...\")\n",
    "X_train, X_test, y_train, y_test = train_test_split(\n",
    "    X,\n",
    "    y,\n",
    "    test_size=test_size_proportion,\n",
    "    random_state=random_seed,\n",
    "    stratify=y # Use stratify to ensure class proportions are similar in train and test sets\n",
    "                # IMPORTANT for classification, especially if some classes are rare\n",
    ")"
   ]
  },
  {
   "cell_type": "code",
   "execution_count": 21,
   "id": "429dc5d3",
   "metadata": {},
   "outputs": [],
   "source": [
    "from sklearn.ensemble import RandomForestClassifier\n",
    "from sklearn.metrics import accuracy_score, classification_report, confusion_matrix\n",
    "import time"
   ]
  },
  {
   "cell_type": "code",
   "execution_count": 22,
   "id": "c1c189a7",
   "metadata": {},
   "outputs": [],
   "source": [
    "model = RandomForestClassifier(n_estimators=100, random_state=random_seed, class_weight='balanced', n_jobs=-1)"
   ]
  },
  {
   "cell_type": "code",
   "execution_count": 23,
   "id": "92fb121a",
   "metadata": {},
   "outputs": [
    {
     "name": "stdout",
     "output_type": "stream",
     "text": [
      "\n",
      "Starting Lithology Classification Model Training (Random Forest)...\n",
      "Training complete in 0.31 seconds.\n"
     ]
    }
   ],
   "source": [
    "print(\"\\nStarting Lithology Classification Model Training (Random Forest)...\")\n",
    "start_time = time.time()\n",
    "model.fit(X_train, y_train)\n",
    "end_time = time.time()\n",
    "print(f\"Training complete in {end_time - start_time:.2f} seconds.\")"
   ]
  },
  {
   "cell_type": "code",
   "execution_count": 24,
   "id": "5f31c583",
   "metadata": {},
   "outputs": [
    {
     "name": "stdout",
     "output_type": "stream",
     "text": [
      "\n",
      "Making predictions on the testing data...\n",
      "Predictions complete.\n"
     ]
    }
   ],
   "source": [
    "print(\"\\nMaking predictions on the testing data...\")\n",
    "y_pred = model.predict(X_test)\n",
    "print(\"Predictions complete.\")"
   ]
  },
  {
   "cell_type": "code",
   "execution_count": 25,
   "id": "88c1d34f",
   "metadata": {},
   "outputs": [
    {
     "name": "stdout",
     "output_type": "stream",
     "text": [
      "Accuracy on the test set: 0.3570\n"
     ]
    }
   ],
   "source": [
    "accuracy = accuracy_score(y_test, y_pred)\n",
    "print(f\"Accuracy on the test set: {accuracy:.4f}\")"
   ]
  },
  {
   "cell_type": "code",
   "execution_count": 26,
   "id": "649e1d14",
   "metadata": {},
   "outputs": [
    {
     "name": "stdout",
     "output_type": "stream",
     "text": [
      "\n",
      "Classification Report:\n",
      "                       precision    recall  f1-score   support\n",
      "\n",
      "   Asphalt / concrete       0.50      0.18      0.27        11\n",
      "                 Clay       0.31      0.26      0.28        58\n",
      "        Clayey gravel       0.00      0.00      0.00         2\n",
      "          Clayey sand       0.00      0.00      0.00        11\n",
      "          Clayey silt       0.20      0.19      0.20       106\n",
      "   Cobbles / boulders       0.00      0.00      0.00         0\n",
      "               Debris       0.50      0.50      0.50         2\n",
      "                 Fill       0.58      0.53      0.56       246\n",
      "               Gravel       0.24      0.21      0.22        48\n",
      "        Gravelly clay       0.00      0.00      0.00         2\n",
      "        Gravelly sand       0.26      0.24      0.25        94\n",
      "        Gravelly silt       0.00      0.00      0.00         7\n",
      "                 Peat       0.17      0.11      0.14        35\n",
      "                 Sand       0.41      0.44      0.43       549\n",
      "           Sandy clay       0.29      0.20      0.24        20\n",
      "         Sandy gravel       0.27      0.26      0.26        78\n",
      "           Sandy silt       0.18      0.17      0.17       175\n",
      "  Sedimentary bedrock       0.00      0.00      0.00         4\n",
      "                 Silt       0.27      0.28      0.28       220\n",
      "           Silty clay       0.27      0.30      0.28        87\n",
      "         Silty gravel       0.00      0.00      0.00        18\n",
      "           Silty sand       0.40      0.44      0.42       552\n",
      " Topsoil / vegetation       0.50      0.35      0.41        20\n",
      "            Undefined       0.38      0.29      0.33        17\n",
      "Undifferentiated rock       1.00      1.00      1.00         1\n",
      "         Volcanic ash       0.00      0.00      0.00         1\n",
      "     Volcanic bedrock       0.00      0.00      0.00         0\n",
      "\n",
      "             accuracy                           0.36      2364\n",
      "            macro avg       0.25      0.22      0.23      2364\n",
      "         weighted avg       0.35      0.36      0.35      2364\n",
      "\n"
     ]
    },
    {
     "name": "stderr",
     "output_type": "stream",
     "text": [
      "/Users/rex/soilense/venv/lib/python3.13/site-packages/sklearn/metrics/_classification.py:1565: UndefinedMetricWarning: Precision is ill-defined and being set to 0.0 in labels with no predicted samples. Use `zero_division` parameter to control this behavior.\n",
      "  _warn_prf(average, modifier, f\"{metric.capitalize()} is\", len(result))\n",
      "/Users/rex/soilense/venv/lib/python3.13/site-packages/sklearn/metrics/_classification.py:1565: UndefinedMetricWarning: Recall is ill-defined and being set to 0.0 in labels with no true samples. Use `zero_division` parameter to control this behavior.\n",
      "  _warn_prf(average, modifier, f\"{metric.capitalize()} is\", len(result))\n",
      "/Users/rex/soilense/venv/lib/python3.13/site-packages/sklearn/metrics/_classification.py:1565: UndefinedMetricWarning: Precision is ill-defined and being set to 0.0 in labels with no predicted samples. Use `zero_division` parameter to control this behavior.\n",
      "  _warn_prf(average, modifier, f\"{metric.capitalize()} is\", len(result))\n",
      "/Users/rex/soilense/venv/lib/python3.13/site-packages/sklearn/metrics/_classification.py:1565: UndefinedMetricWarning: Recall is ill-defined and being set to 0.0 in labels with no true samples. Use `zero_division` parameter to control this behavior.\n",
      "  _warn_prf(average, modifier, f\"{metric.capitalize()} is\", len(result))\n",
      "/Users/rex/soilense/venv/lib/python3.13/site-packages/sklearn/metrics/_classification.py:1565: UndefinedMetricWarning: Precision is ill-defined and being set to 0.0 in labels with no predicted samples. Use `zero_division` parameter to control this behavior.\n",
      "  _warn_prf(average, modifier, f\"{metric.capitalize()} is\", len(result))\n",
      "/Users/rex/soilense/venv/lib/python3.13/site-packages/sklearn/metrics/_classification.py:1565: UndefinedMetricWarning: Recall is ill-defined and being set to 0.0 in labels with no true samples. Use `zero_division` parameter to control this behavior.\n",
      "  _warn_prf(average, modifier, f\"{metric.capitalize()} is\", len(result))\n"
     ]
    }
   ],
   "source": [
    "print(\"\\nClassification Report:\")\n",
    "print(classification_report(y_test, y_pred))"
   ]
  },
  {
   "cell_type": "code",
   "execution_count": 27,
   "id": "6d090dab",
   "metadata": {},
   "outputs": [
    {
     "name": "stdout",
     "output_type": "stream",
     "text": [
      "\n",
      "Confusion Matrix:\n",
      "[[  2   0   0   0   0   0   0   2   1   0   1   1   0   1   0   0   1   0\n",
      "    1   0   0   1   0   0   0   0   0]\n",
      " [  0  15   0   1   1   0   0   2   1   0   1   0   0   5   1   1  11   0\n",
      "    7   6   0   6   0   0   0   0   0]\n",
      " [  0   0   0   0   1   0   0   0   0   0   0   0   0   0   0   0   0   0\n",
      "    0   0   0   1   0   0   0   0   0]\n",
      " [  0   0   0   0   0   0   0   1   0   0   0   0   0   0   2   2   0   0\n",
      "    0   3   0   3   0   0   0   0   0]\n",
      " [  0   1   0   0  20   0   0  12   0   0   3   0   3  11   2   0   8   0\n",
      "   11  12   0  23   0   0   0   0   0]\n",
      " [  0   0   0   0   0   0   0   0   0   0   0   0   0   0   0   0   0   0\n",
      "    0   0   0   0   0   0   0   0   0]\n",
      " [  0   0   0   0   0   0   1   0   0   0   0   0   0   1   0   0   0   0\n",
      "    0   0   0   0   0   0   0   0   0]\n",
      " [  0   1   0   2   2   0   1 131   0   0   7   0   1  33   1   5   8   0\n",
      "   12   3   0  38   0   1   0   0   0]\n",
      " [  0   1   0   0   1   0   0   2  10   0   1   1   0  20   0   0   1   0\n",
      "    2   0   1   8   0   0   0   0   0]\n",
      " [  0   0   0   0   0   0   0   0   0   0   0   0   0   0   0   0   0   0\n",
      "    1   1   0   0   0   0   0   0   0]\n",
      " [  0   2   0   0   3   0   0   6   1   0  23   1   1  20   0   8   4   0\n",
      "    4   4   0  16   0   1   0   0   0]\n",
      " [  0   0   0   0   0   0   0   0   1   0   0   0   0   0   0   1   1   0\n",
      "    1   0   0   3   0   0   0   0   0]\n",
      " [  0   0   0   0   1   0   0   2   0   0   2   0   4   9   0   1   1   0\n",
      "    9   0   0   4   0   2   0   0   0]\n",
      " [  1   4   0   1  17   0   0  17  13   0  14   1   8 244   2  13  29   0\n",
      "   47   8   1 125   2   2   0   0   0]\n",
      " [  0   4   0   1   0   0   0   0   0   0   0   0   0   2   4   0   0   0\n",
      "    0   2   0   6   0   1   0   0   0]\n",
      " [  0   1   0   0   3   0   0   2   2   0  13   1   0  16   1  20   2   0\n",
      "    3   0   0  14   0   0   0   0   0]\n",
      " [  0   2   0   2   7   0   0   3   1   0   5   3   1  35   1   4  29   0\n",
      "   15   9   0  58   0   0   0   0   0]\n",
      " [  0   0   0   1   1   0   0   0   0   0   0   0   0   0   0   0   0   0\n",
      "    2   0   0   0   0   0   0   0   0]\n",
      " [  0   8   0   0   6   0   0   8   3   0   5   0   1  62   0   3  12   0\n",
      "   61  10   1  40   0   0   0   0   0]\n",
      " [  0   3   0   0  14   0   0   5   0   0   1   0   1  12   0   1   6   0\n",
      "    6  26   0  10   1   1   0   0   0]\n",
      " [  0   0   0   0   0   0   0   1   2   0   2   0   1   4   0   1   0   0\n",
      "    0   1   0   4   2   0   0   0   0]\n",
      " [  1   7   0   5  19   1   0  28   7   0  11   1   3 111   0  14  43   0\n",
      "   38  11   8 241   2   0   0   0   1]\n",
      " [  0   0   0   0   1   0   0   2   0   0   0   0   0   2   0   0   3   0\n",
      "    0   0   2   3   7   0   0   0   0]\n",
      " [  0   0   0   0   1   0   0   0   0   0   0   0   0   5   0   0   1   0\n",
      "    1   1   0   3   0   5   0   0   0]\n",
      " [  0   0   0   0   0   0   0   0   0   0   0   0   0   0   0   0   0   0\n",
      "    0   0   0   0   0   0   1   0   0]\n",
      " [  0   0   0   0   0   0   0   0   0   0   0   0   0   0   0   0   0   0\n",
      "    1   0   0   0   0   0   0   0   0]\n",
      " [  0   0   0   0   0   0   0   0   0   0   0   0   0   0   0   0   0   0\n",
      "    0   0   0   0   0   0   0   0   0]]\n"
     ]
    }
   ],
   "source": [
    "print(\"\\nConfusion Matrix:\")\n",
    "print(confusion_matrix(y_test, y_pred))"
   ]
  },
  {
   "cell_type": "code",
   "execution_count": 28,
   "id": "56c5534d",
   "metadata": {},
   "outputs": [
    {
     "name": "stdout",
     "output_type": "stream",
     "text": [
      "\n",
      "Feature Importances:\n",
      "Midpoint Elevation (ft)    0.385152\n",
      "Longitude                  0.308968\n",
      "Latitude                   0.305880\n",
      "dtype: float64\n"
     ]
    }
   ],
   "source": [
    "print(\"\\nFeature Importances:\")\n",
    "feature_importances = pd.Series(model.feature_importances_, index=X_train.columns).sort_values(ascending=False)\n",
    "print(feature_importances)"
   ]
  },
  {
   "cell_type": "code",
   "execution_count": null,
   "id": "f116aa90",
   "metadata": {},
   "outputs": [],
   "source": []
  }
 ],
 "metadata": {
  "kernelspec": {
   "display_name": "venv",
   "language": "python",
   "name": "python3"
  },
  "language_info": {
   "codemirror_mode": {
    "name": "ipython",
    "version": 3
   },
   "file_extension": ".py",
   "mimetype": "text/x-python",
   "name": "python",
   "nbconvert_exporter": "python",
   "pygments_lexer": "ipython3",
   "version": "3.13.2"
  }
 },
 "nbformat": 4,
 "nbformat_minor": 5
}
