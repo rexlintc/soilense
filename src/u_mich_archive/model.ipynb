version https://git-lfs.github.com/spec/v1
oid sha256:d482acf698cca53a0a6e7aee1a86398c60a170a45f21023ec200117e87868f49
size 50939
