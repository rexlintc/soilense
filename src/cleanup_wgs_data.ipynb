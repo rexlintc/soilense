version https://git-lfs.github.com/spec/v1
oid sha256:7a1a50cdd444a329d7c924dbfac8b2e647f9fee7d4392ebd4e4354dc429f1356
size 81494
