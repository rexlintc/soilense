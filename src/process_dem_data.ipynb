{
 "cells": [
  {
   "cell_type": "code",
   "execution_count": null,
   "id": "fc48d088",
   "metadata": {},
   "outputs": [],
   "source": [
    "# import rasterio\n",
    "# import rasterio.warp\n",
    "# import rasterio.fill # Might be needed for nodata handling, but often simple replace is enough\n",
    "import numpy as np\n",
    "# import geopandas as gpd\n",
    "# from shapely.geometry import Point\n",
    "# import pandas as pd\n",
    "from osgeo import gdal"
   ]
  },
  {
   "cell_type": "code",
   "execution_count": 3,
   "id": "d8a5369f",
   "metadata": {},
   "outputs": [],
   "source": [
    "input_dem_path = '../../Documents/soilense_data/DEM/q909.dem'"
   ]
  },
  {
   "cell_type": "code",
   "execution_count": 4,
   "id": "421598b9",
   "metadata": {},
   "outputs": [
    {
     "name": "stderr",
     "output_type": "stream",
     "text": [
      "/Users/rex/soilense/venv/lib/python3.13/site-packages/osgeo/gdal.py:330: FutureWarning: Neither gdal.UseExceptions() nor gdal.DontUseExceptions() has been explicitly called. In GDAL 4.0, exceptions will be enabled by default.\n",
      "  warnings.warn(\n"
     ]
    }
   ],
   "source": [
    "dem_dataset = gdal.Open(input_dem_path)"
   ]
  },
  {
   "cell_type": "code",
   "execution_count": 5,
   "id": "3d75cffc",
   "metadata": {},
   "outputs": [
    {
     "name": "stdout",
     "output_type": "stream",
     "text": [
      "Slope calculation successful. Mean slope: -239.50659\n"
     ]
    }
   ],
   "source": [
    "if dem_dataset:\n",
    "    # Define output slope file\n",
    "    output_slope_path = \"q909_slope_output.tif\"\n",
    "\n",
    "    # Process DEM to calculate slope\n",
    "    # Options can be passed as a list of strings, e.g., options=['-p'] for percent slope\n",
    "    slope_dataset = gdal.DEMProcessing(output_slope_path,\n",
    "                                       dem_dataset,\n",
    "                                       \"slope\",\n",
    "                                       computeEdges=True)\n",
    "                                       # Example for percent slope: options=gdal.DEMProcessingOptions(options=['-p']))\n",
    "\n",
    "\n",
    "    if slope_dataset:\n",
    "        slope_array = slope_dataset.GetRasterBand(1).ReadAsArray()\n",
    "        print(\"Slope calculation successful. Mean slope:\", slope_array.mean())\n",
    "\n",
    "        # Close datasets\n",
    "        slope_dataset = None\n",
    "        dem_dataset = None\n",
    "    else:\n",
    "        print(\"Error: Could not process DEM for slope.\")\n",
    "else:\n",
    "    print(f\"Error: Could not open DEM file {input_dem_path}\")"
   ]
  },
  {
   "cell_type": "code",
   "execution_count": null,
   "id": "2f097061",
   "metadata": {},
   "outputs": [
    {
     "ename": "ModuleNotFoundError",
     "evalue": "No module named 'richdem'",
     "output_type": "error",
     "traceback": [
      "\u001b[31m---------------------------------------------------------------------------\u001b[39m",
      "\u001b[31mModuleNotFoundError\u001b[39m                       Traceback (most recent call last)",
      "\u001b[36mCell\u001b[39m\u001b[36m \u001b[39m\u001b[32mIn[2]\u001b[39m\u001b[32m, line 1\u001b[39m\n\u001b[32m----> \u001b[39m\u001b[32m1\u001b[39m \u001b[38;5;28;01mimport\u001b[39;00m\u001b[38;5;250m \u001b[39m\u001b[34;01mrichdem\u001b[39;00m\u001b[38;5;250m \u001b[39m\u001b[38;5;28;01mas\u001b[39;00m\u001b[38;5;250m \u001b[39m\u001b[34;01mrd\u001b[39;00m\n\u001b[32m      2\u001b[39m \u001b[38;5;66;03m# import matplotlib.pyplot as plt\u001b[39;00m\n\u001b[32m      3\u001b[39m \n\u001b[32m      4\u001b[39m \u001b[38;5;66;03m# Load the DEM\u001b[39;00m\n\u001b[32m      5\u001b[39m \u001b[38;5;66;03m# Replace \"dem.tif\" with the path to your DEM file\u001b[39;00m\n\u001b[32m      6\u001b[39m dem_path = \u001b[33m\"\u001b[39m\u001b[33mdem.tif\u001b[39m\u001b[33m\"\u001b[39m\n",
      "\u001b[31mModuleNotFoundError\u001b[39m: No module named 'richdem'"
     ]
    }
   ],
   "source": [
    "def calculate_slope(dem_array, cell_size):\n",
    "    \"\"\"\n",
    "    Calculates slope from a DEM array.\n",
    "\n",
    "    Args:\n",
    "        dem_array (np.ndarray): 2D NumPy array of elevation values.\n",
    "        cell_size (float): The size of each cell/pixel in the DEM (e.g., meters).\n",
    "\n",
    "    Returns:\n",
    "        np.ndarray: 2D NumPy array of slope values in degrees.\n",
    "    \"\"\"\n",
    "    dy, dx = np.gradient(dem_array, cell_size, cell_size)\n",
    "    slope_rad = np.arctan(np.sqrt(dx**2 + dy**2))\n",
    "    slope_deg = np.degrees(slope_rad)\n",
    "    return slope_deg"
   ]
  },
  {
   "cell_type": "code",
   "execution_count": null,
   "id": "1059c525",
   "metadata": {},
   "outputs": [],
   "source": [
    "def calculate_aspect(dem_array, cell_size):\n",
    "    \"\"\"\n",
    "    Calculates aspect from a DEM array.\n",
    "\n",
    "    Args:\n",
    "        dem_array (np.ndarray): 2D NumPy array of elevation values.\n",
    "        cell_size (float): The size of each cell/pixel in the DEM.\n",
    "\n",
    "    Returns:\n",
    "        np.ndarray: 2D NumPy array of aspect values in degrees (0-360).\n",
    "    \"\"\"\n",
    "    dy, dx = np.gradient(dem_array, cell_size, cell_size)\n",
    "    aspect_rad = np.arctan2(-dy, dx)  # Note: -dy for cartesian to geographic convention\n",
    "    aspect_deg = np.degrees(aspect_rad)\n",
    "    # Adjust aspect to 0-360 degrees, North = 0/360\n",
    "    # Common conversion: 90 - aspect_deg for angles from East counter-clockwise\n",
    "    # Or, to match common GIS tools (0 North, clockwise):\n",
    "    aspect_deg = (450 - aspect_deg) % 360 # Adjusts and handles negative results from arctan2\n",
    "    # A slightly different adjustment was in the source:\n",
    "    # aspect_deg = np.where(aspect_deg < 0, 90.0 - aspect_deg, 450.0 - aspect_deg) % 360\n",
    "    # The above is a common adjustment, if dx, dy are considered as East, North respectively\n",
    "    return aspect_deg"
   ]
  },
  {
   "cell_type": "code",
   "execution_count": null,
   "id": "c2b2bd6f",
   "metadata": {},
   "outputs": [
    {
     "ename": "AttributeError",
     "evalue": "'Affine' object has no attribute 'res'",
     "output_type": "error",
     "traceback": [
      "\u001b[31m---------------------------------------------------------------------------\u001b[39m",
      "\u001b[31mAttributeError\u001b[39m                            Traceback (most recent call last)",
      "\u001b[36mCell\u001b[39m\u001b[36m \u001b[39m\u001b[32mIn[18]\u001b[39m\u001b[32m, line 6\u001b[39m\n\u001b[32m      4\u001b[39m dem_data = dem_raster.read(\u001b[32m1\u001b[39m) \u001b[38;5;66;03m# Read the first (and usually only) band\u001b[39;00m\n\u001b[32m      5\u001b[39m dem_nodata = dem_raster.nodata\n\u001b[32m----> \u001b[39m\u001b[32m6\u001b[39m x_res, y_res = \u001b[43mdem_transform\u001b[49m\u001b[43m.\u001b[49m\u001b[43mres\u001b[49m\n\u001b[32m      8\u001b[39m \u001b[38;5;28mprint\u001b[39m(\u001b[33mf\u001b[39m\u001b[33m\"\u001b[39m\u001b[33mDEM loaded successfully. CRS: \u001b[39m\u001b[38;5;132;01m{\u001b[39;00mdem_crs\u001b[38;5;132;01m}\u001b[39;00m\u001b[33m, Resolution: \u001b[39m\u001b[38;5;132;01m{\u001b[39;00mx_res\u001b[38;5;132;01m}\u001b[39;00m\u001b[33mx\u001b[39m\u001b[38;5;132;01m{\u001b[39;00my_res\u001b[38;5;132;01m}\u001b[39;00m\u001b[33m, NoData: \u001b[39m\u001b[38;5;132;01m{\u001b[39;00mdem_nodata\u001b[38;5;132;01m}\u001b[39;00m\u001b[33m\"\u001b[39m)\n",
      "\u001b[31mAttributeError\u001b[39m: 'Affine' object has no attribute 'res'"
     ]
    }
   ],
   "source": [
    "def calculate_curvature(dem_array, cell_size):\n",
    "    \"\"\"\n",
    "    Calculates a general curvature (Laplacian) from a DEM array.\n",
    "\n",
    "    Args:\n",
    "        dem_array (np.ndarray): 2D NumPy array of elevation values.\n",
    "        cell_size (float): The size of each cell/pixel in the DEM.\n",
    "\n",
    "    Returns:\n",
    "        np.ndarray: 2D NumPy array of curvature values.\n",
    "    \"\"\"\n",
    "    # First derivatives\n",
    "    dy, dx = np.gradient(dem_array, cell_size, cell_size)\n",
    "    \n",
    "    # Second derivatives\n",
    "    d2y_dy, d2x_dy = np.gradient(dy, cell_size, cell_size) # d(dy)/dy, d(dx)/dy\n",
    "    d2y_dx, d2x_dx = np.gradient(dx, cell_size, cell_size) # d(dy)/dx, d(dx)/dx\n",
    "\n",
    "    # General curvature (Laplacian)\n",
    "    # The source used d2x + d2y from a nested gradient call which might be interpreted differently.\n",
    "    # Typically, Laplacian is d^2z/dx^2 + d^2z/dy^2\n",
    "    # Using d2x_dx and d2y_dy:\n",
    "    curvature = d2x_dx + d2y_dy\n",
    "    return curvature\n"
   ]
  },
  {
   "cell_type": "code",
   "execution_count": null,
   "id": "eaa316b1",
   "metadata": {},
   "outputs": [],
   "source": [
    "def calculate_contours(dem_array, cell_x_coords, cell_y_coords, levels):\n",
    "    \"\"\"\n",
    "    Generates contour lines from a DEM array.\n",
    "\n",
    "    Args:\n",
    "        dem_array (np.ndarray): 2D NumPy array of elevation values.\n",
    "        cell_x_coords (np.ndarray): 1D array of x-coordinates for columns.\n",
    "        cell_y_coords (np.ndarray): 1D array of y-coordinates for rows.\n",
    "        levels (list or int): Elevation levels for which to generate contours.\n",
    "\n",
    "    Returns:\n",
    "        list: A list of NumPy arrays, where each array contains the (x, y)\n",
    "              vertices of a contour line segment.\n",
    "    \"\"\"\n",
    "    fig, ax = plt.subplots()\n",
    "    # contour requires X, Y meshgrid for actual coordinates, or assumes pixel indices\n",
    "    cs = ax.contour(cell_x_coords, cell_y_coords, dem_array, levels=levels)\n",
    "    plt.close(fig)  # Close plot to avoid display\n",
    "\n",
    "    contours_data = []\n",
    "    for i, collection in enumerate(cs.collections):\n",
    "        level_contours = []\n",
    "        for path in collection.get_paths():\n",
    "            level_contours.append(path.vertices)\n",
    "        contours_data.append({\n",
    "            'level': cs.levels[i] if isinstance(cs.levels, (list, np.ndarray)) else cs.levels,\n",
    "            'paths': level_contours\n",
    "        })\n",
    "    return contours_data"
   ]
  },
  {
   "cell_type": "code",
   "execution_count": null,
   "id": "66b0d2ea",
   "metadata": {},
   "outputs": [],
   "source": [
    "def calculate_flow_direction_d8(dem_array):\n",
    "    \"\"\"\n",
    "    Calculates D8 flow direction from a DEM array.\n",
    "\n",
    "    Args:\n",
    "        dem_array (np.ndarray): 2D NumPy array of elevation values.\n",
    "\n",
    "    Returns:\n",
    "        np.ndarray: 2D NumPy array of flow direction codes.\n",
    "                    (Codes might be: 1=E, 2=NE, 4=N, 8=NW, 16=W, 32=SW, 64=S, 128=SE,\n",
    "                     or other conventions like 1-8, or powers of 2).\n",
    "                     The example uses powers of 2.\n",
    "    \"\"\"\n",
    "    rows, cols = dem_array.shape\n",
    "    flow_dir = np.zeros_like(dem_array, dtype=np.uint8)\n",
    "    \n",
    "    # D8 direction codes (powers of 2, right to bottom-right clockwise)\n",
    "    # E, SE, S, SW, W, NW, N, NE\n",
    "    # Codes: 1  2  4  8   16  32  64 128 (GIS standard from ESRI)\n",
    "    # The source [7] used:\n",
    "    #   [[128, 64, 32],  (NW, N, NE in its comment mapping)\n",
    "    #    [  1,  0, 16],  (W, center, E)\n",
    "    #    [  2,  4,  8]]  (SW, S, SE)\n",
    "    # This seems to be a non-standard mapping or a typo in the comment.\n",
    "    # Let's use a common convention:\n",
    "    # 1=E, 2=NE, 4=N, 8=NW, 16=W, 32=SW, 64=S, 128=SE\n",
    "    # Offsets: (row, col), Code\n",
    "    # (0,1)=E=1, (-1,1)=NE=2, (-1,0)=N=4, (-1,-1)=NW=8, \n",
    "    # (0,-1)=W=16, (1,-1)=SW=32, (1,0)=S=64, (1,1)=SE=128\n",
    "    \n",
    "    # Corrected D8 directions and codes (ESRI convention)\n",
    "    # dx, dy, code\n",
    "    d_lookup = [\n",
    "        (0, 1, 1),   # E\n",
    "        (-1, 1, 2),  # NE\n",
    "        (-1, 0, 4),  # N\n",
    "        (-1, -1, 8), # NW\n",
    "        (0, -1, 16), # W\n",
    "        (1, -1, 32), # SW\n",
    "        (1, 0, 64),  # S\n",
    "        (1, 1, 128)  # SE\n",
    "    ]\n",
    "\n",
    "    for r in range(1, rows - 1):\n",
    "        for c in range(1, cols - 1):\n",
    "            center_elev = dem_array[r, c]\n",
    "            max_drop = 0\n",
    "            best_dir = 0 # Default for flat areas/pits\n",
    "\n",
    "            for dr, dc, d_code in d_lookup:\n",
    "                nr, nc = r + dr, c + dc\n",
    "                neighbor_elev = dem_array[nr, nc]\n",
    "                drop = (center_elev - neighbor_elev) # Drop is positive if flowing down\n",
    "                \n",
    "                # For D8, typically uses drop / distance for true slope\n",
    "                # Simple D8 often just uses raw elevation difference\n",
    "                # distance = np.sqrt(dr**2 + dc**2) # 1 for cardinal, sqrt(2) for diagonal\n",
    "                # current_slope = drop / distance if distance > 0 else 0\n",
    "                \n",
    "                # Using simple drop as per source [7] logic structure\n",
    "                if drop > max_drop:\n",
    "                    max_drop = drop\n",
    "                    best_dir = d_code\n",
    "            \n",
    "            flow_dir[r, c] = best_dir\n",
    "    return flow_dir"
   ]
  }
 ],
 "metadata": {
  "kernelspec": {
   "display_name": "venv",
   "language": "python",
   "name": "python3"
  },
  "language_info": {
   "codemirror_mode": {
    "name": "ipython",
    "version": 3
   },
   "file_extension": ".py",
   "mimetype": "text/x-python",
   "name": "python",
   "nbconvert_exporter": "python",
   "pygments_lexer": "ipython3",
   "version": "3.13.2"
  }
 },
 "nbformat": 4,
 "nbformat_minor": 5
}
