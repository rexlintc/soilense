{
 "cells": [
  {
   "cell_type": "code",
   "execution_count": null,
   "id": "fc48d088",
   "metadata": {},
   "outputs": [],
   "source": [
    "# import rasterio\n",
    "# import rasterio.warp\n",
    "# import rasterio.fill # Might be needed for nodata handling, but often simple replace is enough\n",
    "import numpy as np\n",
    "# import geopandas as gpd\n",
    "# from shapely.geometry import Point\n",
    "# import pandas as pd\n",
    "from osgeo import gdal"
   ]
  },
  {
   "cell_type": "code",
   "execution_count": 9,
   "id": "d8a5369f",
   "metadata": {},
   "outputs": [],
   "source": [
    "input_dem_path = '../../Documents/soilense_data/DEM/q16.dem'"
   ]
  },
  {
   "cell_type": "code",
   "execution_count": 10,
   "id": "421598b9",
   "metadata": {},
   "outputs": [],
   "source": [
    "dem_dataset = gdal.Open(input_dem_path)"
   ]
  },
  {
   "cell_type": "code",
   "execution_count": 5,
   "id": "3d75cffc",
   "metadata": {},
   "outputs": [
    {
     "name": "stdout",
     "output_type": "stream",
     "text": [
      "Slope calculation successful. Mean slope: -239.50659\n"
     ]
    }
   ],
   "source": [
    "if dem_dataset:\n",
    "    # Define output slope file\n",
    "    output_slope_path = \"q909_slope_output.tif\"\n",
    "\n",
    "    # Process DEM to calculate slope\n",
    "    # Options can be passed as a list of strings, e.g., options=['-p'] for percent slope\n",
    "    slope_dataset = gdal.DEMProcessing(output_slope_path,\n",
    "                                       dem_dataset,\n",
    "                                       \"slope\",\n",
    "                                       computeEdges=True)\n",
    "                                       # Example for percent slope: options=gdal.DEMProcessingOptions(options=['-p']))\n",
    "\n",
    "\n",
    "    if slope_dataset:\n",
    "        slope_array = slope_dataset.GetRasterBand(1).ReadAsArray()\n",
    "        print(\"Slope calculation successful. Mean slope:\", slope_array.mean())\n",
    "\n",
    "        # Close datasets\n",
    "        slope_dataset = None\n",
    "        dem_dataset = None\n",
    "    else:\n",
    "        print(\"Error: Could not process DEM for slope.\")\n",
    "else:\n",
    "    print(f\"Error: Could not open DEM file {input_dem_path}\")"
   ]
  },
  {
   "cell_type": "code",
   "execution_count": 11,
   "id": "c88ee896",
   "metadata": {},
   "outputs": [],
   "source": [
    "geotransform = dem_dataset.GetGeoTransform()"
   ]
  },
  {
   "cell_type": "code",
   "execution_count": 13,
   "id": "0460cce7",
   "metadata": {},
   "outputs": [
    {
     "ename": "SyntaxError",
     "evalue": "invalid syntax (utils.py, line 98)",
     "output_type": "error",
     "traceback": [
      "Traceback \u001b[36m(most recent call last)\u001b[39m:\n",
      "  File \u001b[92m~/soilense/venv/lib/python3.13/site-packages/IPython/core/interactiveshell.py:3670\u001b[39m in \u001b[95mrun_code\u001b[39m\n    exec(code_obj, self.user_global_ns, self.user_ns)\n",
      "\u001b[36m  \u001b[39m\u001b[36mCell\u001b[39m\u001b[36m \u001b[39m\u001b[32mIn[13]\u001b[39m\u001b[32m, line 1\u001b[39m\n\u001b[31m    \u001b[39m\u001b[31mfrom dem_processor.utils import get_dem_info\u001b[39m\n",
      "  \u001b[36mFile \u001b[39m\u001b[32m~/soilense/src/dem_processor/utils.py:98\u001b[39m\n\u001b[31m    \u001b[39m\u001b[31mif gdal.VersionInfo_ Ciò \"VERSION_NUM\" > \"3010000\": # GDAL 3.1+\u001b[39m\n                         ^\n\u001b[31mSyntaxError\u001b[39m\u001b[31m:\u001b[39m invalid syntax\n"
     ]
    }
   ],
   "source": [
    "from dem_processor.utils import get_dem_info"
   ]
  },
  {
   "cell_type": "code",
   "execution_count": null,
   "id": "085f96f0",
   "metadata": {},
   "outputs": [],
   "source": [
    "geotransform[0] = top-left X\n",
    "geotransform[1] = W-E pixel resolution (pixel width)\n",
    "geotransform[2] = row rotation (typically 0)\n",
    "geotransform[3] = top-left Y\n",
    "geotransform[4] = column rotation (typically 0)"
   ]
  }
 ],
 "metadata": {
  "kernelspec": {
   "display_name": "venv",
   "language": "python",
   "name": "python3"
  },
  "language_info": {
   "codemirror_mode": {
    "name": "ipython",
    "version": 3
   },
   "file_extension": ".py",
   "mimetype": "text/x-python",
   "name": "python",
   "nbconvert_exporter": "python",
   "pygments_lexer": "ipython3",
   "version": "3.13.2"
  }
 },
 "nbformat": 4,
 "nbformat_minor": 5
}
